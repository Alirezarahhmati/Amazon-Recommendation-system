{
  "metadata": {
    "kernelspec": {
      "language": "python",
      "display_name": "Python 3",
      "name": "python3"
    },
    "language_info": {
      "name": "python",
      "version": "3.10.12",
      "mimetype": "text/x-python",
      "codemirror_mode": {
        "name": "ipython",
        "version": 3
      },
      "pygments_lexer": "ipython3",
      "nbconvert_exporter": "python",
      "file_extension": ".py"
    },
    "kaggle": {
      "accelerator": "none",
      "dataSources": [
        {
          "sourceId": 43260,
          "sourceType": "datasetVersion",
          "datasetId": 33019
        }
      ],
      "dockerImageVersionId": 30626,
      "isInternetEnabled": false,
      "language": "python",
      "sourceType": "notebook",
      "isGpuEnabled": false
    },
    "colab": {
      "provenance": []
    }
  },
  "nbformat_minor": 0,
  "nbformat": 4,
  "cells": [
    {
      "cell_type": "code",
      "source": [
        "!pip install kaggle"
      ],
      "metadata": {
        "_uuid": "8f2839f25d086af736a60e9eeb907d3b93b6e0e5",
        "_cell_guid": "b1076dfc-b9ad-4769-8c92-a6c4dae69d19",
        "execution": {
          "iopub.status.busy": "2024-01-04T20:01:39.859791Z",
          "iopub.execute_input": "2024-01-04T20:01:39.860202Z",
          "iopub.status.idle": "2024-01-04T20:01:39.873013Z",
          "shell.execute_reply.started": "2024-01-04T20:01:39.860166Z",
          "shell.execute_reply": "2024-01-04T20:01:39.872085Z"
        },
        "trusted": true,
        "colab": {
          "base_uri": "https://localhost:8080/"
        },
        "id": "sdMsM38dE4HP",
        "outputId": "c23c7e04-0e9f-4f8d-9098-65cbcc6ea234"
      },
      "execution_count": 1,
      "outputs": [
        {
          "output_type": "stream",
          "name": "stdout",
          "text": [
            "Requirement already satisfied: kaggle in /usr/local/lib/python3.10/dist-packages (1.5.16)\n",
            "Requirement already satisfied: six>=1.10 in /usr/local/lib/python3.10/dist-packages (from kaggle) (1.16.0)\n",
            "Requirement already satisfied: certifi in /usr/local/lib/python3.10/dist-packages (from kaggle) (2023.11.17)\n",
            "Requirement already satisfied: python-dateutil in /usr/local/lib/python3.10/dist-packages (from kaggle) (2.8.2)\n",
            "Requirement already satisfied: requests in /usr/local/lib/python3.10/dist-packages (from kaggle) (2.31.0)\n",
            "Requirement already satisfied: tqdm in /usr/local/lib/python3.10/dist-packages (from kaggle) (4.66.1)\n",
            "Requirement already satisfied: python-slugify in /usr/local/lib/python3.10/dist-packages (from kaggle) (8.0.1)\n",
            "Requirement already satisfied: urllib3 in /usr/local/lib/python3.10/dist-packages (from kaggle) (2.0.7)\n",
            "Requirement already satisfied: bleach in /usr/local/lib/python3.10/dist-packages (from kaggle) (6.1.0)\n",
            "Requirement already satisfied: webencodings in /usr/local/lib/python3.10/dist-packages (from bleach->kaggle) (0.5.1)\n",
            "Requirement already satisfied: text-unidecode>=1.3 in /usr/local/lib/python3.10/dist-packages (from python-slugify->kaggle) (1.3)\n",
            "Requirement already satisfied: charset-normalizer<4,>=2 in /usr/local/lib/python3.10/dist-packages (from requests->kaggle) (3.3.2)\n",
            "Requirement already satisfied: idna<4,>=2.5 in /usr/local/lib/python3.10/dist-packages (from requests->kaggle) (3.6)\n"
          ]
        }
      ]
    },
    {
      "cell_type": "code",
      "source": [
        "from google.colab import files\n",
        "\n",
        "uploaded = files.upload()"
      ],
      "metadata": {
        "colab": {
          "base_uri": "https://localhost:8080/",
          "height": 73
        },
        "id": "TFa0lSN6GZy1",
        "outputId": "275e0b0c-53ff-4303-adc4-11474125072a"
      },
      "execution_count": 2,
      "outputs": [
        {
          "output_type": "display_data",
          "data": {
            "text/plain": [
              "<IPython.core.display.HTML object>"
            ],
            "text/html": [
              "\n",
              "     <input type=\"file\" id=\"files-00ba09da-5d6e-4470-8142-177b84bb988d\" name=\"files[]\" multiple disabled\n",
              "        style=\"border:none\" />\n",
              "     <output id=\"result-00ba09da-5d6e-4470-8142-177b84bb988d\">\n",
              "      Upload widget is only available when the cell has been executed in the\n",
              "      current browser session. Please rerun this cell to enable.\n",
              "      </output>\n",
              "      <script>// Copyright 2017 Google LLC\n",
              "//\n",
              "// Licensed under the Apache License, Version 2.0 (the \"License\");\n",
              "// you may not use this file except in compliance with the License.\n",
              "// You may obtain a copy of the License at\n",
              "//\n",
              "//      http://www.apache.org/licenses/LICENSE-2.0\n",
              "//\n",
              "// Unless required by applicable law or agreed to in writing, software\n",
              "// distributed under the License is distributed on an \"AS IS\" BASIS,\n",
              "// WITHOUT WARRANTIES OR CONDITIONS OF ANY KIND, either express or implied.\n",
              "// See the License for the specific language governing permissions and\n",
              "// limitations under the License.\n",
              "\n",
              "/**\n",
              " * @fileoverview Helpers for google.colab Python module.\n",
              " */\n",
              "(function(scope) {\n",
              "function span(text, styleAttributes = {}) {\n",
              "  const element = document.createElement('span');\n",
              "  element.textContent = text;\n",
              "  for (const key of Object.keys(styleAttributes)) {\n",
              "    element.style[key] = styleAttributes[key];\n",
              "  }\n",
              "  return element;\n",
              "}\n",
              "\n",
              "// Max number of bytes which will be uploaded at a time.\n",
              "const MAX_PAYLOAD_SIZE = 100 * 1024;\n",
              "\n",
              "function _uploadFiles(inputId, outputId) {\n",
              "  const steps = uploadFilesStep(inputId, outputId);\n",
              "  const outputElement = document.getElementById(outputId);\n",
              "  // Cache steps on the outputElement to make it available for the next call\n",
              "  // to uploadFilesContinue from Python.\n",
              "  outputElement.steps = steps;\n",
              "\n",
              "  return _uploadFilesContinue(outputId);\n",
              "}\n",
              "\n",
              "// This is roughly an async generator (not supported in the browser yet),\n",
              "// where there are multiple asynchronous steps and the Python side is going\n",
              "// to poll for completion of each step.\n",
              "// This uses a Promise to block the python side on completion of each step,\n",
              "// then passes the result of the previous step as the input to the next step.\n",
              "function _uploadFilesContinue(outputId) {\n",
              "  const outputElement = document.getElementById(outputId);\n",
              "  const steps = outputElement.steps;\n",
              "\n",
              "  const next = steps.next(outputElement.lastPromiseValue);\n",
              "  return Promise.resolve(next.value.promise).then((value) => {\n",
              "    // Cache the last promise value to make it available to the next\n",
              "    // step of the generator.\n",
              "    outputElement.lastPromiseValue = value;\n",
              "    return next.value.response;\n",
              "  });\n",
              "}\n",
              "\n",
              "/**\n",
              " * Generator function which is called between each async step of the upload\n",
              " * process.\n",
              " * @param {string} inputId Element ID of the input file picker element.\n",
              " * @param {string} outputId Element ID of the output display.\n",
              " * @return {!Iterable<!Object>} Iterable of next steps.\n",
              " */\n",
              "function* uploadFilesStep(inputId, outputId) {\n",
              "  const inputElement = document.getElementById(inputId);\n",
              "  inputElement.disabled = false;\n",
              "\n",
              "  const outputElement = document.getElementById(outputId);\n",
              "  outputElement.innerHTML = '';\n",
              "\n",
              "  const pickedPromise = new Promise((resolve) => {\n",
              "    inputElement.addEventListener('change', (e) => {\n",
              "      resolve(e.target.files);\n",
              "    });\n",
              "  });\n",
              "\n",
              "  const cancel = document.createElement('button');\n",
              "  inputElement.parentElement.appendChild(cancel);\n",
              "  cancel.textContent = 'Cancel upload';\n",
              "  const cancelPromise = new Promise((resolve) => {\n",
              "    cancel.onclick = () => {\n",
              "      resolve(null);\n",
              "    };\n",
              "  });\n",
              "\n",
              "  // Wait for the user to pick the files.\n",
              "  const files = yield {\n",
              "    promise: Promise.race([pickedPromise, cancelPromise]),\n",
              "    response: {\n",
              "      action: 'starting',\n",
              "    }\n",
              "  };\n",
              "\n",
              "  cancel.remove();\n",
              "\n",
              "  // Disable the input element since further picks are not allowed.\n",
              "  inputElement.disabled = true;\n",
              "\n",
              "  if (!files) {\n",
              "    return {\n",
              "      response: {\n",
              "        action: 'complete',\n",
              "      }\n",
              "    };\n",
              "  }\n",
              "\n",
              "  for (const file of files) {\n",
              "    const li = document.createElement('li');\n",
              "    li.append(span(file.name, {fontWeight: 'bold'}));\n",
              "    li.append(span(\n",
              "        `(${file.type || 'n/a'}) - ${file.size} bytes, ` +\n",
              "        `last modified: ${\n",
              "            file.lastModifiedDate ? file.lastModifiedDate.toLocaleDateString() :\n",
              "                                    'n/a'} - `));\n",
              "    const percent = span('0% done');\n",
              "    li.appendChild(percent);\n",
              "\n",
              "    outputElement.appendChild(li);\n",
              "\n",
              "    const fileDataPromise = new Promise((resolve) => {\n",
              "      const reader = new FileReader();\n",
              "      reader.onload = (e) => {\n",
              "        resolve(e.target.result);\n",
              "      };\n",
              "      reader.readAsArrayBuffer(file);\n",
              "    });\n",
              "    // Wait for the data to be ready.\n",
              "    let fileData = yield {\n",
              "      promise: fileDataPromise,\n",
              "      response: {\n",
              "        action: 'continue',\n",
              "      }\n",
              "    };\n",
              "\n",
              "    // Use a chunked sending to avoid message size limits. See b/62115660.\n",
              "    let position = 0;\n",
              "    do {\n",
              "      const length = Math.min(fileData.byteLength - position, MAX_PAYLOAD_SIZE);\n",
              "      const chunk = new Uint8Array(fileData, position, length);\n",
              "      position += length;\n",
              "\n",
              "      const base64 = btoa(String.fromCharCode.apply(null, chunk));\n",
              "      yield {\n",
              "        response: {\n",
              "          action: 'append',\n",
              "          file: file.name,\n",
              "          data: base64,\n",
              "        },\n",
              "      };\n",
              "\n",
              "      let percentDone = fileData.byteLength === 0 ?\n",
              "          100 :\n",
              "          Math.round((position / fileData.byteLength) * 100);\n",
              "      percent.textContent = `${percentDone}% done`;\n",
              "\n",
              "    } while (position < fileData.byteLength);\n",
              "  }\n",
              "\n",
              "  // All done.\n",
              "  yield {\n",
              "    response: {\n",
              "      action: 'complete',\n",
              "    }\n",
              "  };\n",
              "}\n",
              "\n",
              "scope.google = scope.google || {};\n",
              "scope.google.colab = scope.google.colab || {};\n",
              "scope.google.colab._files = {\n",
              "  _uploadFiles,\n",
              "  _uploadFilesContinue,\n",
              "};\n",
              "})(self);\n",
              "</script> "
            ]
          },
          "metadata": {}
        },
        {
          "output_type": "stream",
          "name": "stdout",
          "text": [
            "Saving kaggle.json to kaggle.json\n"
          ]
        }
      ]
    },
    {
      "cell_type": "code",
      "source": [
        "!mkdir -p ~/.kaggle\n",
        "!cp kaggle.json ~/.kaggle/\n",
        "!chmod 600 ~/.kaggle/kaggle.json"
      ],
      "metadata": {
        "id": "1lsF7sb7Gl_x"
      },
      "execution_count": 3,
      "outputs": []
    },
    {
      "cell_type": "code",
      "source": [
        "!kaggle datasets download -d skillsmuggler/amazon-ratings"
      ],
      "metadata": {
        "colab": {
          "base_uri": "https://localhost:8080/"
        },
        "id": "HAn3_be4GqpR",
        "outputId": "bcd5fe8a-612c-4096-befb-84fc2d4306e8"
      },
      "execution_count": 4,
      "outputs": [
        {
          "output_type": "stream",
          "name": "stdout",
          "text": [
            "Downloading amazon-ratings.zip to /content\n",
            " 87% 25.0M/28.8M [00:00<00:00, 68.4MB/s]\n",
            "100% 28.8M/28.8M [00:00<00:00, 67.8MB/s]\n"
          ]
        }
      ]
    },
    {
      "cell_type": "code",
      "source": [
        "!unzip -q /content/amazon-ratings.zip -d /content/"
      ],
      "metadata": {
        "id": "jc36H_11HB6F"
      },
      "execution_count": 5,
      "outputs": []
    },
    {
      "cell_type": "markdown",
      "source": [],
      "metadata": {
        "id": "iirD8pjTE4HU"
      }
    },
    {
      "cell_type": "code",
      "source": [
        "!pip install datasketch"
      ],
      "metadata": {
        "colab": {
          "base_uri": "https://localhost:8080/"
        },
        "id": "qRm-kIosHkWL",
        "outputId": "7d35bbc9-cfbc-4554-dde4-8155e0d2aa81"
      },
      "execution_count": 6,
      "outputs": [
        {
          "output_type": "stream",
          "name": "stdout",
          "text": [
            "Collecting datasketch\n",
            "  Downloading datasketch-1.6.4-py3-none-any.whl (88 kB)\n",
            "\u001b[2K     \u001b[90m━━━━━━━━━━━━━━━━━━━━━━━━━━━━━━━━━━━━━━━━\u001b[0m \u001b[32m88.3/88.3 kB\u001b[0m \u001b[31m1.6 MB/s\u001b[0m eta \u001b[36m0:00:00\u001b[0m\n",
            "\u001b[?25hRequirement already satisfied: numpy>=1.11 in /usr/local/lib/python3.10/dist-packages (from datasketch) (1.23.5)\n",
            "Requirement already satisfied: scipy>=1.0.0 in /usr/local/lib/python3.10/dist-packages (from datasketch) (1.11.4)\n",
            "Installing collected packages: datasketch\n",
            "Successfully installed datasketch-1.6.4\n"
          ]
        }
      ]
    },
    {
      "cell_type": "code",
      "source": [
        "!pip install scikit-surprise"
      ],
      "metadata": {
        "colab": {
          "base_uri": "https://localhost:8080/"
        },
        "id": "4x7clq5tAalh",
        "outputId": "b1bf05e3-23ed-481e-d207-0dd4f7eb1e67"
      },
      "execution_count": 9,
      "outputs": [
        {
          "output_type": "stream",
          "name": "stdout",
          "text": [
            "Collecting scikit-surprise\n",
            "  Downloading scikit-surprise-1.1.3.tar.gz (771 kB)\n",
            "\u001b[2K     \u001b[90m━━━━━━━━━━━━━━━━━━━━━━━━━━━━━━━━━━━━━━━━\u001b[0m \u001b[32m772.0/772.0 kB\u001b[0m \u001b[31m5.8 MB/s\u001b[0m eta \u001b[36m0:00:00\u001b[0m\n",
            "\u001b[?25h  Preparing metadata (setup.py) ... \u001b[?25l\u001b[?25hdone\n",
            "Requirement already satisfied: joblib>=1.0.0 in /usr/local/lib/python3.10/dist-packages (from scikit-surprise) (1.3.2)\n",
            "Requirement already satisfied: numpy>=1.17.3 in /usr/local/lib/python3.10/dist-packages (from scikit-surprise) (1.23.5)\n",
            "Requirement already satisfied: scipy>=1.3.2 in /usr/local/lib/python3.10/dist-packages (from scikit-surprise) (1.11.4)\n",
            "Building wheels for collected packages: scikit-surprise\n",
            "  Building wheel for scikit-surprise (setup.py) ... \u001b[?25l\u001b[?25hdone\n",
            "  Created wheel for scikit-surprise: filename=scikit_surprise-1.1.3-cp310-cp310-linux_x86_64.whl size=3163697 sha256=d9b6662c9100039ac71eed8b66553dd554c0a41cb4f07526021fb49f19295973\n",
            "  Stored in directory: /root/.cache/pip/wheels/a5/ca/a8/4e28def53797fdc4363ca4af740db15a9c2f1595ebc51fb445\n",
            "Successfully built scikit-surprise\n",
            "Installing collected packages: scikit-surprise\n",
            "Successfully installed scikit-surprise-1.1.3\n"
          ]
        }
      ]
    },
    {
      "cell_type": "code",
      "source": [
        "import pandas as pd\n",
        "import numpy as np\n",
        "import matplotlib.pyplot as plt\n",
        "from sklearn.preprocessing import LabelEncoder\n",
        "from sklearn.preprocessing import MinMaxScaler\n",
        "from datasketch import MinHash, MinHashLSH\n",
        "from surprise import Dataset, Reader\n",
        "from surprise.model_selection import train_test_split\n",
        "from surprise import SVD\n",
        "from surprise import accuracy"
      ],
      "metadata": {
        "execution": {
          "iopub.status.busy": "2024-01-04T20:01:41.168366Z",
          "iopub.execute_input": "2024-01-04T20:01:41.168835Z",
          "iopub.status.idle": "2024-01-04T20:01:41.209276Z",
          "shell.execute_reply.started": "2024-01-04T20:01:41.168797Z",
          "shell.execute_reply": "2024-01-04T20:01:41.207713Z"
        },
        "trusted": true,
        "id": "oscpK_nwE4HW"
      },
      "execution_count": 10,
      "outputs": []
    },
    {
      "cell_type": "code",
      "source": [
        "df = pd.read_csv('/content/ratings_Beauty.csv')"
      ],
      "metadata": {
        "execution": {
          "iopub.status.busy": "2024-01-04T12:22:37.808285Z",
          "iopub.execute_input": "2024-01-04T12:22:37.808588Z",
          "iopub.status.idle": "2024-01-04T12:22:40.590510Z",
          "shell.execute_reply.started": "2024-01-04T12:22:37.808561Z",
          "shell.execute_reply": "2024-01-04T12:22:40.589423Z"
        },
        "trusted": true,
        "id": "S469spATE4HW"
      },
      "execution_count": null,
      "outputs": []
    },
    {
      "cell_type": "code",
      "source": [
        "df.shape"
      ],
      "metadata": {
        "execution": {
          "iopub.status.busy": "2024-01-04T12:22:40.591911Z",
          "iopub.execute_input": "2024-01-04T12:22:40.592247Z",
          "iopub.status.idle": "2024-01-04T12:22:40.599562Z",
          "shell.execute_reply.started": "2024-01-04T12:22:40.592219Z",
          "shell.execute_reply": "2024-01-04T12:22:40.598435Z"
        },
        "trusted": true,
        "id": "jysszuIME4HX",
        "outputId": "12ffa1b5-00a7-4701-99be-aaaba1f9104d"
      },
      "execution_count": null,
      "outputs": [
        {
          "execution_count": 5,
          "output_type": "execute_result",
          "data": {
            "text/plain": "(2023070, 4)"
          },
          "metadata": {}
        }
      ]
    },
    {
      "cell_type": "code",
      "source": [
        "df.columns"
      ],
      "metadata": {
        "execution": {
          "iopub.status.busy": "2024-01-04T12:22:40.602504Z",
          "iopub.execute_input": "2024-01-04T12:22:40.602825Z",
          "iopub.status.idle": "2024-01-04T12:22:40.613546Z",
          "shell.execute_reply.started": "2024-01-04T12:22:40.602798Z",
          "shell.execute_reply": "2024-01-04T12:22:40.612406Z"
        },
        "trusted": true,
        "id": "O-tiQOrYE4HX",
        "outputId": "bc37ac23-d894-46cf-ed38-e6abf4163e6a"
      },
      "execution_count": null,
      "outputs": [
        {
          "execution_count": 6,
          "output_type": "execute_result",
          "data": {
            "text/plain": "Index(['UserId', 'ProductId', 'Rating', 'Timestamp'], dtype='object')"
          },
          "metadata": {}
        }
      ]
    },
    {
      "cell_type": "code",
      "source": [
        "df.head(5)"
      ],
      "metadata": {
        "execution": {
          "iopub.status.busy": "2024-01-04T12:22:40.614967Z",
          "iopub.execute_input": "2024-01-04T12:22:40.615343Z",
          "iopub.status.idle": "2024-01-04T12:22:40.637868Z",
          "shell.execute_reply.started": "2024-01-04T12:22:40.615314Z",
          "shell.execute_reply": "2024-01-04T12:22:40.636796Z"
        },
        "trusted": true,
        "id": "S9qBP4IZE4HY",
        "outputId": "799239f4-384b-4834-f48e-82ac8558c87c"
      },
      "execution_count": null,
      "outputs": [
        {
          "execution_count": 7,
          "output_type": "execute_result",
          "data": {
            "text/plain": "           UserId   ProductId  Rating   Timestamp\n0  A39HTATAQ9V7YF  0205616461     5.0  1369699200\n1  A3JM6GV9MNOF9X  0558925278     3.0  1355443200\n2  A1Z513UWSAAO0F  0558925278     5.0  1404691200\n3  A1WMRR494NWEWV  0733001998     4.0  1382572800\n4  A3IAAVS479H7M7  0737104473     1.0  1274227200",
            "text/html": "<div>\n<style scoped>\n    .dataframe tbody tr th:only-of-type {\n        vertical-align: middle;\n    }\n\n    .dataframe tbody tr th {\n        vertical-align: top;\n    }\n\n    .dataframe thead th {\n        text-align: right;\n    }\n</style>\n<table border=\"1\" class=\"dataframe\">\n  <thead>\n    <tr style=\"text-align: right;\">\n      <th></th>\n      <th>UserId</th>\n      <th>ProductId</th>\n      <th>Rating</th>\n      <th>Timestamp</th>\n    </tr>\n  </thead>\n  <tbody>\n    <tr>\n      <th>0</th>\n      <td>A39HTATAQ9V7YF</td>\n      <td>0205616461</td>\n      <td>5.0</td>\n      <td>1369699200</td>\n    </tr>\n    <tr>\n      <th>1</th>\n      <td>A3JM6GV9MNOF9X</td>\n      <td>0558925278</td>\n      <td>3.0</td>\n      <td>1355443200</td>\n    </tr>\n    <tr>\n      <th>2</th>\n      <td>A1Z513UWSAAO0F</td>\n      <td>0558925278</td>\n      <td>5.0</td>\n      <td>1404691200</td>\n    </tr>\n    <tr>\n      <th>3</th>\n      <td>A1WMRR494NWEWV</td>\n      <td>0733001998</td>\n      <td>4.0</td>\n      <td>1382572800</td>\n    </tr>\n    <tr>\n      <th>4</th>\n      <td>A3IAAVS479H7M7</td>\n      <td>0737104473</td>\n      <td>1.0</td>\n      <td>1274227200</td>\n    </tr>\n  </tbody>\n</table>\n</div>"
          },
          "metadata": {}
        }
      ]
    },
    {
      "cell_type": "code",
      "source": [
        "df.isnull().sum()"
      ],
      "metadata": {
        "execution": {
          "iopub.status.busy": "2024-01-04T12:22:40.641593Z",
          "iopub.execute_input": "2024-01-04T12:22:40.641984Z",
          "iopub.status.idle": "2024-01-04T12:22:40.859433Z",
          "shell.execute_reply.started": "2024-01-04T12:22:40.641956Z",
          "shell.execute_reply": "2024-01-04T12:22:40.858493Z"
        },
        "trusted": true,
        "id": "_IfX-nf9E4HY",
        "outputId": "38c9263c-6c7e-4855-ecb6-7f1320a85f50"
      },
      "execution_count": null,
      "outputs": [
        {
          "execution_count": 8,
          "output_type": "execute_result",
          "data": {
            "text/plain": "UserId       0\nProductId    0\nRating       0\nTimestamp    0\ndtype: int64"
          },
          "metadata": {}
        }
      ]
    },
    {
      "cell_type": "code",
      "source": [
        "df.duplicated().sum()"
      ],
      "metadata": {
        "execution": {
          "iopub.status.busy": "2024-01-04T12:22:40.860468Z",
          "iopub.execute_input": "2024-01-04T12:22:40.860751Z",
          "iopub.status.idle": "2024-01-04T12:22:42.011922Z",
          "shell.execute_reply.started": "2024-01-04T12:22:40.860727Z",
          "shell.execute_reply": "2024-01-04T12:22:42.010806Z"
        },
        "trusted": true,
        "id": "1K7SzxaoE4HY",
        "outputId": "36a49317-0f78-4c93-c527-657b24b4bf99"
      },
      "execution_count": null,
      "outputs": [
        {
          "execution_count": 9,
          "output_type": "execute_result",
          "data": {
            "text/plain": "0"
          },
          "metadata": {}
        }
      ]
    },
    {
      "cell_type": "code",
      "source": [
        "df['Timestamp'] = pd.to_datetime(df['Timestamp'])"
      ],
      "metadata": {
        "execution": {
          "iopub.status.busy": "2024-01-04T12:22:42.013201Z",
          "iopub.execute_input": "2024-01-04T12:22:42.013494Z",
          "iopub.status.idle": "2024-01-04T12:22:42.078782Z",
          "shell.execute_reply.started": "2024-01-04T12:22:42.013467Z",
          "shell.execute_reply": "2024-01-04T12:22:42.077712Z"
        },
        "trusted": true,
        "id": "C5UkB8u6E4HZ"
      },
      "execution_count": null,
      "outputs": []
    },
    {
      "cell_type": "code",
      "source": [
        "df['Date'] = df['Timestamp'].dt.date"
      ],
      "metadata": {
        "execution": {
          "iopub.status.busy": "2024-01-04T12:22:42.080021Z",
          "iopub.execute_input": "2024-01-04T12:22:42.080542Z",
          "iopub.status.idle": "2024-01-04T12:22:42.696115Z",
          "shell.execute_reply.started": "2024-01-04T12:22:42.080512Z",
          "shell.execute_reply": "2024-01-04T12:22:42.695049Z"
        },
        "trusted": true,
        "id": "qoOd6hV5E4HZ"
      },
      "execution_count": null,
      "outputs": []
    },
    {
      "cell_type": "code",
      "source": [
        "daily_counts = df.groupby('Date').size().reset_index(name='Count')"
      ],
      "metadata": {
        "execution": {
          "iopub.status.busy": "2024-01-04T12:22:42.697491Z",
          "iopub.execute_input": "2024-01-04T12:22:42.697811Z",
          "iopub.status.idle": "2024-01-04T12:22:42.933414Z",
          "shell.execute_reply.started": "2024-01-04T12:22:42.697782Z",
          "shell.execute_reply": "2024-01-04T12:22:42.932318Z"
        },
        "trusted": true,
        "id": "chRhXIm2E4HZ"
      },
      "execution_count": null,
      "outputs": []
    },
    {
      "cell_type": "code",
      "source": [
        "daily_counts"
      ],
      "metadata": {
        "execution": {
          "iopub.status.busy": "2024-01-04T12:22:42.934737Z",
          "iopub.execute_input": "2024-01-04T12:22:42.935084Z",
          "iopub.status.idle": "2024-01-04T12:22:42.945857Z",
          "shell.execute_reply.started": "2024-01-04T12:22:42.935055Z",
          "shell.execute_reply": "2024-01-04T12:22:42.944565Z"
        },
        "trusted": true,
        "id": "o-RCTZRIE4Ha",
        "outputId": "376df832-2571-4802-bd9a-daadffe2171a"
      },
      "execution_count": null,
      "outputs": [
        {
          "execution_count": 13,
          "output_type": "execute_result",
          "data": {
            "text/plain": "         Date    Count\n0  1970-01-01  2023070",
            "text/html": "<div>\n<style scoped>\n    .dataframe tbody tr th:only-of-type {\n        vertical-align: middle;\n    }\n\n    .dataframe tbody tr th {\n        vertical-align: top;\n    }\n\n    .dataframe thead th {\n        text-align: right;\n    }\n</style>\n<table border=\"1\" class=\"dataframe\">\n  <thead>\n    <tr style=\"text-align: right;\">\n      <th></th>\n      <th>Date</th>\n      <th>Count</th>\n    </tr>\n  </thead>\n  <tbody>\n    <tr>\n      <th>0</th>\n      <td>1970-01-01</td>\n      <td>2023070</td>\n    </tr>\n  </tbody>\n</table>\n</div>"
          },
          "metadata": {}
        }
      ]
    },
    {
      "cell_type": "code",
      "source": [
        "# Create a new column for the hour of the day\n",
        "df['Hour'] = df['Timestamp'].dt.hour\n",
        "\n",
        "# Group the data by hour and count the number of ratings for each hour\n",
        "hourly_counts = df.groupby('Hour').size().reset_index(name='Count')"
      ],
      "metadata": {
        "execution": {
          "iopub.status.busy": "2024-01-04T12:22:42.947606Z",
          "iopub.execute_input": "2024-01-04T12:22:42.947931Z",
          "iopub.status.idle": "2024-01-04T12:22:43.196174Z",
          "shell.execute_reply.started": "2024-01-04T12:22:42.947900Z",
          "shell.execute_reply": "2024-01-04T12:22:43.194967Z"
        },
        "trusted": true,
        "id": "XACqK1k9E4Ha"
      },
      "execution_count": null,
      "outputs": []
    },
    {
      "cell_type": "code",
      "source": [
        "hourly_counts"
      ],
      "metadata": {
        "execution": {
          "iopub.status.busy": "2024-01-04T12:22:43.199863Z",
          "iopub.execute_input": "2024-01-04T12:22:43.200222Z",
          "iopub.status.idle": "2024-01-04T12:22:43.207838Z",
          "shell.execute_reply.started": "2024-01-04T12:22:43.200194Z",
          "shell.execute_reply": "2024-01-04T12:22:43.206763Z"
        },
        "trusted": true,
        "id": "NIhxMX7cE4Ha",
        "outputId": "04c9e3dc-9ae3-4c6d-a437-e4c64a549f23"
      },
      "execution_count": null,
      "outputs": [
        {
          "execution_count": 15,
          "output_type": "execute_result",
          "data": {
            "text/plain": "   Hour    Count\n0     0  2023070",
            "text/html": "<div>\n<style scoped>\n    .dataframe tbody tr th:only-of-type {\n        vertical-align: middle;\n    }\n\n    .dataframe tbody tr th {\n        vertical-align: top;\n    }\n\n    .dataframe thead th {\n        text-align: right;\n    }\n</style>\n<table border=\"1\" class=\"dataframe\">\n  <thead>\n    <tr style=\"text-align: right;\">\n      <th></th>\n      <th>Hour</th>\n      <th>Count</th>\n    </tr>\n  </thead>\n  <tbody>\n    <tr>\n      <th>0</th>\n      <td>0</td>\n      <td>2023070</td>\n    </tr>\n  </tbody>\n</table>\n</div>"
          },
          "metadata": {}
        }
      ]
    },
    {
      "cell_type": "code",
      "source": [
        "# Find the minimum and maximum date\n",
        "min_date = df['Timestamp'].min()\n",
        "max_date = df['Timestamp'].max()\n",
        "\n",
        "print(f\"Minimum Date: {min_date}\")\n",
        "print(f\"Maximum Date: {max_date}\")"
      ],
      "metadata": {
        "execution": {
          "iopub.status.busy": "2024-01-04T12:22:43.208957Z",
          "iopub.execute_input": "2024-01-04T12:22:43.209280Z",
          "iopub.status.idle": "2024-01-04T12:22:43.230751Z",
          "shell.execute_reply.started": "2024-01-04T12:22:43.209252Z",
          "shell.execute_reply": "2024-01-04T12:22:43.229653Z"
        },
        "trusted": true,
        "id": "yz4U4NbNE4Ha",
        "outputId": "372c74b0-92a8-4df4-a5bd-43f0de5cd34c"
      },
      "execution_count": null,
      "outputs": [
        {
          "name": "stdout",
          "text": "Minimum Date: 1970-01-01 00:00:00.908755200\nMaximum Date: 1970-01-01 00:00:01.406073600\n",
          "output_type": "stream"
        }
      ]
    },
    {
      "cell_type": "code",
      "source": [
        "plt.figure(figsize=(8, 5))\n",
        "plt.hist(df['Rating'], bins=range(1, 7), align='left', edgecolor='black')\n",
        "plt.title('Distribution of Ratings')\n",
        "plt.xlabel('Rating')\n",
        "plt.ylabel('Count')\n",
        "plt.xticks(range(1, 6))\n",
        "plt.grid(axis='y', alpha=0.75)\n",
        "plt.show()"
      ],
      "metadata": {
        "execution": {
          "iopub.status.busy": "2024-01-04T12:22:43.232149Z",
          "iopub.execute_input": "2024-01-04T12:22:43.232540Z",
          "iopub.status.idle": "2024-01-04T12:22:43.572945Z",
          "shell.execute_reply.started": "2024-01-04T12:22:43.232502Z",
          "shell.execute_reply": "2024-01-04T12:22:43.571980Z"
        },
        "trusted": true,
        "id": "EWVT-HtvE4Ha",
        "outputId": "b130eabc-523c-47db-c4f8-06eb7c6f4a6e"
      },
      "execution_count": null,
      "outputs": [
        {
          "output_type": "display_data",
          "data": {
            "text/plain": "<Figure size 800x500 with 1 Axes>",
            "image/png": "[encoded data removed]"
          },
          "metadata": {}
        }
      ]
    },
    {
      "cell_type": "code",
      "source": [
        "rating_counts = df['Rating'].value_counts()\n",
        "\n",
        "# Create a pie chart\n",
        "plt.figure(figsize=(8, 8))\n",
        "plt.pie(rating_counts, labels=rating_counts.index, autopct='%1.1f%%', startangle=140, colors=plt.cm.Paired.colors)\n",
        "plt.title('Distribution of Ratings')\n",
        "plt.show()"
      ],
      "metadata": {
        "execution": {
          "iopub.status.busy": "2024-01-04T12:22:43.574128Z",
          "iopub.execute_input": "2024-01-04T12:22:43.574448Z",
          "iopub.status.idle": "2024-01-04T12:22:43.799421Z",
          "shell.execute_reply.started": "2024-01-04T12:22:43.574420Z",
          "shell.execute_reply": "2024-01-04T12:22:43.798304Z"
        },
        "trusted": true,
        "id": "Hyyj0axGE4Hb",
        "outputId": "8e8cb3b5-2bad-4699-a47e-745a97ea4179"
      },
      "execution_count": null,
      "outputs": [
        {
          "output_type": "display_data",
          "data": {
            "text/plain": "<Figure size 800x800 with 1 Axes>",
            "image/png": "[encoded data removed]"
          },
          "metadata": {}
        }
      ]
    },
    {
      "cell_type": "code",
      "source": [
        "# Calculate the average count of ratings for each user\n",
        "user_avg_ratings = df.groupby('UserId')['Rating'].count().mean()\n",
        "\n",
        "# Calculate the average count of ratings for each product\n",
        "product_avg_ratings = df.groupby('ProductId')['Rating'].count().mean()\n",
        "\n",
        "# Display the top 10 users with the highest count of ratings\n",
        "top_users = df['UserId'].value_counts().head(10)\n",
        "\n",
        "# Display the top 10 products with the highest count of ratings\n",
        "top_products = df['ProductId'].value_counts().head(10)\n",
        "\n",
        "print(\"Average count of ratings per user:\", user_avg_ratings)\n",
        "print(\"Average count of ratings per product:\", product_avg_ratings)\n",
        "\n",
        "print(\"\\nTop 10 users with the highest count of ratings:\")\n",
        "print(top_users)\n",
        "\n",
        "print(\"\\nTop 10 products with the highest count of ratings:\")\n",
        "print(top_products)"
      ],
      "metadata": {
        "execution": {
          "iopub.status.busy": "2024-01-04T12:22:43.801020Z",
          "iopub.execute_input": "2024-01-04T12:22:43.801692Z",
          "iopub.status.idle": "2024-01-04T12:22:49.314734Z",
          "shell.execute_reply.started": "2024-01-04T12:22:43.801649Z",
          "shell.execute_reply": "2024-01-04T12:22:49.313561Z"
        },
        "trusted": true,
        "id": "AWmk0b2dE4Hb",
        "outputId": "8ac4b60e-39cd-42a3-cd9e-efa033f6826b"
      },
      "execution_count": null,
      "outputs": [
        {
          "name": "stdout",
          "text": "Average count of ratings per user: 1.6715842980621696\nAverage count of ratings per product: 8.115848423822781\n\nTop 10 users with the highest count of ratings:\nUserId\nA3KEZLJ59C1JVH    389\nA281NPSIMI1C2R    336\nA3M174IC0VXOS2    326\nA2V5R832QCSOMX    278\nA3LJLRIZL38GG3    276\nALQGOMOY1F5X9     275\nAKMEY1BSHSDG7     269\nA3R9H6OKZHHRJD    259\nA1M04H40ZVGWVG    249\nA1RRMZKOMZ2M7J    225\nName: count, dtype: int64\n\nTop 10 products with the highest count of ratings:\nProductId\nB001MA0QY2    7533\nB0009V1YR8    2869\nB0043OYFKU    2477\nB0000YUXI0    2143\nB003V265QW    2088\nB000ZMBSPE    2041\nB003BQ6QXK    1918\nB004OHQR1Q    1885\nB00121UVU0    1838\nB000FS05VG    1589\nName: count, dtype: int64\n",
          "output_type": "stream"
        }
      ]
    },
    {
      "cell_type": "code",
      "source": [
        "# Calculate the average rating and count of ratings for each user\n",
        "user_stats = df.groupby('UserId')['Rating'].agg(['mean', 'count']).reset_index()\n",
        "user_stats.columns = ['UserId', 'AvgRating', 'RatingCount']\n",
        "\n",
        "# Calculate the average rating and count of ratings for each product\n",
        "product_stats = df.groupby('ProductId')['Rating'].agg(['mean', 'count']).reset_index()\n",
        "product_stats.columns = ['ProductId', 'AvgRating', 'RatingCount']\n",
        "\n",
        "# Display the top 10 users with the highest count of ratings\n",
        "top_users = user_stats.sort_values(by='RatingCount', ascending=False).head(10)\n",
        "\n",
        "# Display the top 10 products with the highest count of ratings\n",
        "top_products = product_stats.sort_values(by='RatingCount', ascending=False).head(10)\n",
        "\n",
        "# Merge the original DataFrame with the user and product statistics\n",
        "df = pd.merge(df, user_stats, on='UserId', how='left')\n",
        "df = pd.merge(df, product_stats, on='ProductId', how='left')\n",
        "\n",
        "# Display the new DataFrame with added columns\n",
        "print(df.head())\n",
        "\n",
        "# Display the top 10 users and products with the highest count of ratings\n",
        "print(\"\\nTop 10 users with the highest count of ratings:\")\n",
        "print(top_users)\n",
        "\n",
        "print(\"\\nTop 10 products with the highest count of ratings:\")\n",
        "print(top_products)"
      ],
      "metadata": {
        "execution": {
          "iopub.status.busy": "2024-01-04T12:22:49.316018Z",
          "iopub.execute_input": "2024-01-04T12:22:49.316792Z",
          "iopub.status.idle": "2024-01-04T12:22:55.793846Z",
          "shell.execute_reply.started": "2024-01-04T12:22:49.316763Z",
          "shell.execute_reply": "2024-01-04T12:22:55.792740Z"
        },
        "trusted": true,
        "id": "R3SZhdsLE4Hb",
        "outputId": "46cf2496-f0a5-4140-9155-42927acccbdd"
      },
      "execution_count": null,
      "outputs": [
        {
          "name": "stdout",
          "text": "           UserId   ProductId  Rating                     Timestamp  \\\n0  A39HTATAQ9V7YF  0205616461     5.0 1970-01-01 00:00:01.369699200   \n1  A3JM6GV9MNOF9X  0558925278     3.0 1970-01-01 00:00:01.355443200   \n2  A1Z513UWSAAO0F  0558925278     5.0 1970-01-01 00:00:01.404691200   \n3  A1WMRR494NWEWV  0733001998     4.0 1970-01-01 00:00:01.382572800   \n4  A3IAAVS479H7M7  0737104473     1.0 1970-01-01 00:00:01.274227200   \n\n         Date  Hour  AvgRating_x  RatingCount_x  AvgRating_y  RatingCount_y  \n0  1970-01-01     0         4.25              4          5.0              1  \n1  1970-01-01     0         3.50              2          4.0              2  \n2  1970-01-01     0         5.00              1          4.0              2  \n3  1970-01-01     0         4.00              1          4.0              1  \n4  1970-01-01     0         1.00              9          1.0              1  \n\nTop 10 users with the highest count of ratings:\n                 UserId  AvgRating  RatingCount\n821601   A3KEZLJ59C1JVH   3.704370          389\n391642   A281NPSIMI1C2R   4.791667          336\n835886   A3M174IC0VXOS2   4.414110          326\n597619   A2V5R832QCSOMX   4.417266          278\n831533   A3LJLRIZL38GG3   4.550725          276\n1083909   ALQGOMOY1F5X9   2.218182          275\n1073877   AKMEY1BSHSDG7   4.620818          269\n882222   A3R9H6OKZHHRJD   3.969112          259\n196335   A1M04H40ZVGWVG   3.835341          249\n247870   A1RRMZKOMZ2M7J   3.355556          225\n\nTop 10 products with the highest count of ratings:\n         ProductId  AvgRating  RatingCount\n65766   B001MA0QY2   4.321386         7533\n10516   B0009V1YR8   3.568839         2869\n110873  B0043OYFKU   4.310456         2477\n2365    B0000YUXI0   4.405040         2143\n105018  B003V265QW   4.365421         2088\n41474   B000ZMBSPE   4.422342         2041\n94769   B003BQ6QXK   4.625652         1918\n124659  B004OHQR1Q   4.465782         1885\n43368   B00121UVU0   4.538085         1838\n17629   B000FS05VG   4.159849         1589\n",
          "output_type": "stream"
        }
      ]
    },
    {
      "cell_type": "code",
      "source": [
        "df = pd.read_csv(\"/content/ratings_Beauty.csv\")"
      ],
      "metadata": {
        "execution": {
          "iopub.status.busy": "2024-01-04T19:57:39.156172Z",
          "iopub.execute_input": "2024-01-04T19:57:39.156892Z",
          "iopub.status.idle": "2024-01-04T19:57:42.720374Z",
          "shell.execute_reply.started": "2024-01-04T19:57:39.156845Z",
          "shell.execute_reply": "2024-01-04T19:57:42.719085Z"
        },
        "trusted": true,
        "id": "l0ysPKc3E4Hb"
      },
      "execution_count": 33,
      "outputs": []
    },
    {
      "cell_type": "code",
      "source": [
        "df = df.drop('Timestamp', axis=1)"
      ],
      "metadata": {
        "execution": {
          "iopub.status.busy": "2024-01-04T19:57:42.722505Z",
          "iopub.execute_input": "2024-01-04T19:57:42.722875Z",
          "iopub.status.idle": "2024-01-04T19:57:42.837925Z",
          "shell.execute_reply.started": "2024-01-04T19:57:42.722844Z",
          "shell.execute_reply": "2024-01-04T19:57:42.836612Z"
        },
        "trusted": true,
        "id": "kG2oQ_XWE4Hb"
      },
      "execution_count": 34,
      "outputs": []
    },
    {
      "cell_type": "code",
      "source": [
        "df.columns"
      ],
      "metadata": {
        "execution": {
          "iopub.status.busy": "2024-01-04T19:57:42.839717Z",
          "iopub.execute_input": "2024-01-04T19:57:42.840093Z",
          "iopub.status.idle": "2024-01-04T19:57:42.849030Z",
          "shell.execute_reply.started": "2024-01-04T19:57:42.840061Z",
          "shell.execute_reply": "2024-01-04T19:57:42.847773Z"
        },
        "trusted": true,
        "colab": {
          "base_uri": "https://localhost:8080/"
        },
        "id": "o6I0BLLlE4Hb",
        "outputId": "674daa36-994f-481c-8837-5dcc2afdb187"
      },
      "execution_count": 35,
      "outputs": [
        {
          "output_type": "execute_result",
          "data": {
            "text/plain": [
              "Index(['UserId', 'ProductId', 'Rating'], dtype='object')"
            ]
          },
          "metadata": {},
          "execution_count": 35
        }
      ]
    },
    {
      "cell_type": "code",
      "source": [
        "le_user = LabelEncoder()\n",
        "le_product = LabelEncoder()\n",
        "\n",
        "# Encode UserId and ProductId\n",
        "df['UserId'] = le_user.fit_transform(df['UserId'])\n",
        "df['ProductId'] = le_product.fit_transform(df['ProductId'])"
      ],
      "metadata": {
        "execution": {
          "iopub.status.busy": "2024-01-04T19:57:42.851725Z",
          "iopub.execute_input": "2024-01-04T19:57:42.852180Z",
          "iopub.status.idle": "2024-01-04T19:57:51.642372Z",
          "shell.execute_reply.started": "2024-01-04T19:57:42.852143Z",
          "shell.execute_reply": "2024-01-04T19:57:51.641228Z"
        },
        "trusted": true,
        "id": "B0FlurD5E4Hc"
      },
      "execution_count": 36,
      "outputs": []
    },
    {
      "cell_type": "code",
      "source": [
        "scaler = MinMaxScaler()\n",
        "df['Rating'] = scaler.fit_transform(df[['Rating']])"
      ],
      "metadata": {
        "execution": {
          "iopub.status.busy": "2024-01-04T19:57:51.643692Z",
          "iopub.execute_input": "2024-01-04T19:57:51.644168Z",
          "iopub.status.idle": "2024-01-04T19:57:51.683952Z",
          "shell.execute_reply.started": "2024-01-04T19:57:51.644133Z",
          "shell.execute_reply": "2024-01-04T19:57:51.682656Z"
        },
        "trusted": true,
        "id": "Z3McsDNsE4Hc"
      },
      "execution_count": 37,
      "outputs": []
    },
    {
      "cell_type": "code",
      "source": [
        "df.head()"
      ],
      "metadata": {
        "colab": {
          "base_uri": "https://localhost:8080/",
          "height": 206
        },
        "id": "abYdQ4BKDj8Z",
        "outputId": "d1ab33d4-0c16-4854-b731-72644f3876fe"
      },
      "execution_count": 38,
      "outputs": [
        {
          "output_type": "execute_result",
          "data": {
            "text/plain": [
              "   UserId  ProductId  Rating\n",
              "0  725046          0    1.00\n",
              "1  814606          1    0.50\n",
              "2  313101          1    1.00\n",
              "3  291075          2    0.75\n",
              "4  802842          3    0.00"
            ],
            "text/html": [
              "\n",
              "  <div id=\"df-d8f84dfb-5460-46d4-9087-0c3cbdcf623b\" class=\"colab-df-container\">\n",
              "    <div>\n",
              "<style scoped>\n",
              "    .dataframe tbody tr th:only-of-type {\n",
              "        vertical-align: middle;\n",
              "    }\n",
              "\n",
              "    .dataframe tbody tr th {\n",
              "        vertical-align: top;\n",
              "    }\n",
              "\n",
              "    .dataframe thead th {\n",
              "        text-align: right;\n",
              "    }\n",
              "</style>\n",
              "<table border=\"1\" class=\"dataframe\">\n",
              "  <thead>\n",
              "    <tr style=\"text-align: right;\">\n",
              "      <th></th>\n",
              "      <th>UserId</th>\n",
              "      <th>ProductId</th>\n",
              "      <th>Rating</th>\n",
              "    </tr>\n",
              "  </thead>\n",
              "  <tbody>\n",
              "    <tr>\n",
              "      <th>0</th>\n",
              "      <td>725046</td>\n",
              "      <td>0</td>\n",
              "      <td>1.00</td>\n",
              "    </tr>\n",
              "    <tr>\n",
              "      <th>1</th>\n",
              "      <td>814606</td>\n",
              "      <td>1</td>\n",
              "      <td>0.50</td>\n",
              "    </tr>\n",
              "    <tr>\n",
              "      <th>2</th>\n",
              "      <td>313101</td>\n",
              "      <td>1</td>\n",
              "      <td>1.00</td>\n",
              "    </tr>\n",
              "    <tr>\n",
              "      <th>3</th>\n",
              "      <td>291075</td>\n",
              "      <td>2</td>\n",
              "      <td>0.75</td>\n",
              "    </tr>\n",
              "    <tr>\n",
              "      <th>4</th>\n",
              "      <td>802842</td>\n",
              "      <td>3</td>\n",
              "      <td>0.00</td>\n",
              "    </tr>\n",
              "  </tbody>\n",
              "</table>\n",
              "</div>\n",
              "    <div class=\"colab-df-buttons\">\n",
              "\n",
              "  <div class=\"colab-df-container\">\n",
              "    <button class=\"colab-df-convert\" onclick=\"convertToInteractive('df-d8f84dfb-5460-46d4-9087-0c3cbdcf623b')\"\n",
              "            title=\"Convert this dataframe to an interactive table.\"\n",
              "            style=\"display:none;\">\n",
              "\n",
              "  <svg xmlns=\"http://www.w3.org/2000/svg\" height=\"24px\" viewBox=\"0 -960 960 960\">\n",
              "    <path d=\"M120-120v-720h720v720H120Zm60-500h600v-160H180v160Zm220 220h160v-160H400v160Zm0 220h160v-160H400v160ZM180-400h160v-160H180v160Zm440 0h160v-160H620v160ZM180-180h160v-160H180v160Zm440 0h160v-160H620v160Z\"/>\n",
              "  </svg>\n",
              "    </button>\n",
              "\n",
              "  <style>\n",
              "    .colab-df-container {\n",
              "      display:flex;\n",
              "      gap: 12px;\n",
              "    }\n",
              "\n",
              "    .colab-df-convert {\n",
              "      background-color: #E8F0FE;\n",
              "      border: none;\n",
              "      border-radius: 50%;\n",
              "      cursor: pointer;\n",
              "      display: none;\n",
              "      fill: #1967D2;\n",
              "      height: 32px;\n",
              "      padding: 0 0 0 0;\n",
              "      width: 32px;\n",
              "    }\n",
              "\n",
              "    .colab-df-convert:hover {\n",
              "      background-color: #E2EBFA;\n",
              "      box-shadow: 0px 1px 2px rgba(60, 64, 67, 0.3), 0px 1px 3px 1px rgba(60, 64, 67, 0.15);\n",
              "      fill: #174EA6;\n",
              "    }\n",
              "\n",
              "    .colab-df-buttons div {\n",
              "      margin-bottom: 4px;\n",
              "    }\n",
              "\n",
              "    [theme=dark] .colab-df-convert {\n",
              "      background-color: #3B4455;\n",
              "      fill: #D2E3FC;\n",
              "    }\n",
              "\n",
              "    [theme=dark] .colab-df-convert:hover {\n",
              "      background-color: #434B5C;\n",
              "      box-shadow: 0px 1px 3px 1px rgba(0, 0, 0, 0.15);\n",
              "      filter: drop-shadow(0px 1px 2px rgba(0, 0, 0, 0.3));\n",
              "      fill: #FFFFFF;\n",
              "    }\n",
              "  </style>\n",
              "\n",
              "    <script>\n",
              "      const buttonEl =\n",
              "        document.querySelector('#df-d8f84dfb-5460-46d4-9087-0c3cbdcf623b button.colab-df-convert');\n",
              "      buttonEl.style.display =\n",
              "        google.colab.kernel.accessAllowed ? 'block' : 'none';\n",
              "\n",
              "      async function convertToInteractive(key) {\n",
              "        const element = document.querySelector('#df-d8f84dfb-5460-46d4-9087-0c3cbdcf623b');\n",
              "        const dataTable =\n",
              "          await google.colab.kernel.invokeFunction('convertToInteractive',\n",
              "                                                    [key], {});\n",
              "        if (!dataTable) return;\n",
              "\n",
              "        const docLinkHtml = 'Like what you see? Visit the ' +\n",
              "          '<a target=\"_blank\" href=https://colab.research.google.com/notebooks/data_table.ipynb>data table notebook</a>'\n",
              "          + ' to learn more about interactive tables.';\n",
              "        element.innerHTML = '';\n",
              "        dataTable['output_type'] = 'display_data';\n",
              "        await google.colab.output.renderOutput(dataTable, element);\n",
              "        const docLink = document.createElement('div');\n",
              "        docLink.innerHTML = docLinkHtml;\n",
              "        element.appendChild(docLink);\n",
              "      }\n",
              "    </script>\n",
              "  </div>\n",
              "\n",
              "\n",
              "<div id=\"df-30915fd1-6f64-4cc2-9df1-2278e3c31255\">\n",
              "  <button class=\"colab-df-quickchart\" onclick=\"quickchart('df-30915fd1-6f64-4cc2-9df1-2278e3c31255')\"\n",
              "            title=\"Suggest charts\"\n",
              "            style=\"display:none;\">\n",
              "\n",
              "<svg xmlns=\"http://www.w3.org/2000/svg\" height=\"24px\"viewBox=\"0 0 24 24\"\n",
              "     width=\"24px\">\n",
              "    <g>\n",
              "        <path d=\"M19 3H5c-1.1 0-2 .9-2 2v14c0 1.1.9 2 2 2h14c1.1 0 2-.9 2-2V5c0-1.1-.9-2-2-2zM9 17H7v-7h2v7zm4 0h-2V7h2v10zm4 0h-2v-4h2v4z\"/>\n",
              "    </g>\n",
              "</svg>\n",
              "  </button>\n",
              "\n",
              "<style>\n",
              "  .colab-df-quickchart {\n",
              "      --bg-color: #E8F0FE;\n",
              "      --fill-color: #1967D2;\n",
              "      --hover-bg-color: #E2EBFA;\n",
              "      --hover-fill-color: #174EA6;\n",
              "      --disabled-fill-color: #AAA;\n",
              "      --disabled-bg-color: #DDD;\n",
              "  }\n",
              "\n",
              "  [theme=dark] .colab-df-quickchart {\n",
              "      --bg-color: #3B4455;\n",
              "      --fill-color: #D2E3FC;\n",
              "      --hover-bg-color: #434B5C;\n",
              "      --hover-fill-color: #FFFFFF;\n",
              "      --disabled-bg-color: #3B4455;\n",
              "      --disabled-fill-color: #666;\n",
              "  }\n",
              "\n",
              "  .colab-df-quickchart {\n",
              "    background-color: var(--bg-color);\n",
              "    border: none;\n",
              "    border-radius: 50%;\n",
              "    cursor: pointer;\n",
              "    display: none;\n",
              "    fill: var(--fill-color);\n",
              "    height: 32px;\n",
              "    padding: 0;\n",
              "    width: 32px;\n",
              "  }\n",
              "\n",
              "  .colab-df-quickchart:hover {\n",
              "    background-color: var(--hover-bg-color);\n",
              "    box-shadow: 0 1px 2px rgba(60, 64, 67, 0.3), 0 1px 3px 1px rgba(60, 64, 67, 0.15);\n",
              "    fill: var(--button-hover-fill-color);\n",
              "  }\n",
              "\n",
              "  .colab-df-quickchart-complete:disabled,\n",
              "  .colab-df-quickchart-complete:disabled:hover {\n",
              "    background-color: var(--disabled-bg-color);\n",
              "    fill: var(--disabled-fill-color);\n",
              "    box-shadow: none;\n",
              "  }\n",
              "\n",
              "  .colab-df-spinner {\n",
              "    border: 2px solid var(--fill-color);\n",
              "    border-color: transparent;\n",
              "    border-bottom-color: var(--fill-color);\n",
              "    animation:\n",
              "      spin 1s steps(1) infinite;\n",
              "  }\n",
              "\n",
              "  @keyframes spin {\n",
              "    0% {\n",
              "      border-color: transparent;\n",
              "      border-bottom-color: var(--fill-color);\n",
              "      border-left-color: var(--fill-color);\n",
              "    }\n",
              "    20% {\n",
              "      border-color: transparent;\n",
              "      border-left-color: var(--fill-color);\n",
              "      border-top-color: var(--fill-color);\n",
              "    }\n",
              "    30% {\n",
              "      border-color: transparent;\n",
              "      border-left-color: var(--fill-color);\n",
              "      border-top-color: var(--fill-color);\n",
              "      border-right-color: var(--fill-color);\n",
              "    }\n",
              "    40% {\n",
              "      border-color: transparent;\n",
              "      border-right-color: var(--fill-color);\n",
              "      border-top-color: var(--fill-color);\n",
              "    }\n",
              "    60% {\n",
              "      border-color: transparent;\n",
              "      border-right-color: var(--fill-color);\n",
              "    }\n",
              "    80% {\n",
              "      border-color: transparent;\n",
              "      border-right-color: var(--fill-color);\n",
              "      border-bottom-color: var(--fill-color);\n",
              "    }\n",
              "    90% {\n",
              "      border-color: transparent;\n",
              "      border-bottom-color: var(--fill-color);\n",
              "    }\n",
              "  }\n",
              "</style>\n",
              "\n",
              "  <script>\n",
              "    async function quickchart(key) {\n",
              "      const quickchartButtonEl =\n",
              "        document.querySelector('#' + key + ' button');\n",
              "      quickchartButtonEl.disabled = true;  // To prevent multiple clicks.\n",
              "      quickchartButtonEl.classList.add('colab-df-spinner');\n",
              "      try {\n",
              "        const charts = await google.colab.kernel.invokeFunction(\n",
              "            'suggestCharts', [key], {});\n",
              "      } catch (error) {\n",
              "        console.error('Error during call to suggestCharts:', error);\n",
              "      }\n",
              "      quickchartButtonEl.classList.remove('colab-df-spinner');\n",
              "      quickchartButtonEl.classList.add('colab-df-quickchart-complete');\n",
              "    }\n",
              "    (() => {\n",
              "      let quickchartButtonEl =\n",
              "        document.querySelector('#df-30915fd1-6f64-4cc2-9df1-2278e3c31255 button');\n",
              "      quickchartButtonEl.style.display =\n",
              "        google.colab.kernel.accessAllowed ? 'block' : 'none';\n",
              "    })();\n",
              "  </script>\n",
              "</div>\n",
              "    </div>\n",
              "  </div>\n"
            ]
          },
          "metadata": {},
          "execution_count": 38
        }
      ]
    },
    {
      "cell_type": "code",
      "source": [
        "df = df.sample(frac=0.1, random_state=42)"
      ],
      "metadata": {
        "execution": {
          "iopub.status.busy": "2024-01-04T14:39:34.802507Z",
          "iopub.execute_input": "2024-01-04T14:39:34.803289Z",
          "iopub.status.idle": "2024-01-04T14:39:34.920320Z",
          "shell.execute_reply.started": "2024-01-04T14:39:34.803242Z",
          "shell.execute_reply": "2024-01-04T14:39:34.919097Z"
        },
        "trusted": true,
        "id": "V4OrbM3CE4Hc"
      },
      "execution_count": 26,
      "outputs": []
    },
    {
      "cell_type": "code",
      "source": [
        "# sampled_df.shape"
      ],
      "metadata": {
        "execution": {
          "iopub.status.busy": "2024-01-04T14:39:34.921749Z",
          "iopub.execute_input": "2024-01-04T14:39:34.922087Z",
          "iopub.status.idle": "2024-01-04T14:39:34.927044Z",
          "shell.execute_reply.started": "2024-01-04T14:39:34.922058Z",
          "shell.execute_reply": "2024-01-04T14:39:34.925827Z"
        },
        "trusted": true,
        "id": "fLFPSUVHE4Hc"
      },
      "execution_count": null,
      "outputs": []
    },
    {
      "cell_type": "code",
      "source": [
        "df.shape"
      ],
      "metadata": {
        "execution": {
          "iopub.status.busy": "2024-01-04T14:39:34.929938Z",
          "iopub.execute_input": "2024-01-04T14:39:34.930324Z",
          "iopub.status.idle": "2024-01-04T14:39:34.939591Z",
          "shell.execute_reply.started": "2024-01-04T14:39:34.930293Z",
          "shell.execute_reply": "2024-01-04T14:39:34.938426Z"
        },
        "trusted": true,
        "id": "2Ub7NAYTE4Hc",
        "outputId": "5c5df3a9-fd7e-4633-a857-2865026872a5",
        "colab": {
          "base_uri": "https://localhost:8080/"
        }
      },
      "execution_count": null,
      "outputs": [
        {
          "output_type": "execute_result",
          "data": {
            "text/plain": [
              "(202307, 4)"
            ]
          },
          "metadata": {},
          "execution_count": 9
        }
      ]
    },
    {
      "cell_type": "code",
      "source": [
        "# Assuming df is your original DataFrame with 'UserId', 'ProductId', and 'Rating' columns\n",
        "reader = Reader(rating_scale=(1, 5))\n",
        "data = Dataset.load_from_df(df[['UserId', 'ProductId', 'Rating']], reader)\n",
        "\n",
        "# Split the data into training and testing sets\n",
        "trainset, testset = train_test_split(data, test_size=0.2, random_state=42)\n",
        "\n",
        "# Train a collaborative filtering model (e.g., Singular Value Decomposition - SVD)\n",
        "model = SVD()\n",
        "model.fit(trainset)"
      ],
      "metadata": {
        "colab": {
          "base_uri": "https://localhost:8080/"
        },
        "id": "mc_zW3zXCuB8",
        "outputId": "c77d7dff-641c-4737-dfd6-b018e98468fc"
      },
      "execution_count": 39,
      "outputs": [
        {
          "output_type": "execute_result",
          "data": {
            "text/plain": [
              "<surprise.prediction_algorithms.matrix_factorization.SVD at 0x7f382b1bfca0>"
            ]
          },
          "metadata": {},
          "execution_count": 39
        }
      ]
    },
    {
      "cell_type": "code",
      "source": [
        "# Make predictions on the test set\n",
        "predictions = model.test(testset)\n",
        "\n",
        "# Evaluate accuracy with RMSE\n",
        "rmse = accuracy.rmse(predictions)\n",
        "print(\"RMSE on test set:\", rmse)"
      ],
      "metadata": {
        "colab": {
          "base_uri": "https://localhost:8080/"
        },
        "id": "ZGfu-NfgCx_B",
        "outputId": "261985f4-14ca-46c1-fa98-48803b4ab3ac"
      },
      "execution_count": 40,
      "outputs": [
        {
          "output_type": "stream",
          "name": "stdout",
          "text": [
            "RMSE: 0.3906\n",
            "RMSE on test set: 0.3905511196392996\n"
          ]
        }
      ]
    }
  ]
}